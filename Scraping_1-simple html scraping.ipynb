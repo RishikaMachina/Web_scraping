{
 "cells": [
  {
   "cell_type": "code",
   "execution_count": 1,
   "metadata": {},
   "outputs": [],
   "source": [
    "from urllib.request import urlopen\n",
    "from bs4 import BeautifulSoup as BS\n",
    "import pandas as pd\n",
    "from urllib.parse import urlparse, urlsplit\n",
    "from PIL import Image"
   ]
  },
  {
   "cell_type": "code",
   "execution_count": 2,
   "metadata": {},
   "outputs": [],
   "source": [
    "url = \"http://blogs.sjsu.edu/newsroom/2020/sjsucounts-the-2020-census-guide-and-sjsu-drawing/\"\n",
    "\n",
    "try:\n",
    "    page = urlopen(url)\n",
    "except:\n",
    "    print(\"Error opening the URL\")\n",
    "\n",
    "soup = BS(page, 'html.parser')"
   ]
  },
  {
   "cell_type": "code",
   "execution_count": 3,
   "metadata": {},
   "outputs": [],
   "source": [
    "content = soup.find('div', {\"class\": \"entry-content\"})\n",
    "\n",
    "article = ''\n",
    "for i in content.findAll('p'):\n",
    "    article = article + ' ' +  i.text\n",
    "    \n",
    "with open('scraped_text.txt', 'w') as file:\n",
    "    file.write(article)"
   ]
  },
  {
   "cell_type": "code",
   "execution_count": null,
   "metadata": {},
   "outputs": [],
   "source": [
    "## Output\n",
    "\n",
    "'''\n",
    " Starting this spring, the U.S. Census Bureau is collecting data on the number of people living in households \n",
    " across the country. San Jose State encourages all SJSU students to participate in the census for a variety of \n",
    " reasons. Please see below for frequently asked questions about the Census. Fill out your 2020 Census SJSU \n",
    " students who complete the 2020 U.S. Census and complete an SJSU form are entered into a prize drawing. Download\n",
    " #SJSUCounts: Representation, Rewards, and a Drawing [pdf] Download #SJSUCounts: The 2020 Census Guide FAQ [pdf]\n",
    " Every 10 years, the U.S. Census Bureau counts every person living in the U.S. as mandated in the Constitution. \n",
    " The count begins in mid-March and lasts through the summer. For every person left uncounted, California could \n",
    " lose up to $1,000 per person each year for the next ten years. Completing your Census form helps ensure \n",
    " California receives funding for healthcare services, parks and roads that support your local community. \n",
    " The Census is a simple and confidential 9-question survey that takes less than 5 minutes to complete. Questions \n",
    " include your name, address, gender, race, and age. The 2020 Census does not ask about your citizenship status \n",
    " or for your social security number, bank details, payment, or a donation. In general, count yourself at the U.S. \n",
    " residence where you live and sleep most of the time.\n",
    "'''"
   ]
  },
  {
   "cell_type": "code",
   "execution_count": null,
   "metadata": {},
   "outputs": [],
   "source": []
  }
 ],
 "metadata": {
  "kernelspec": {
   "display_name": "Python 3",
   "language": "python",
   "name": "python3"
  },
  "language_info": {
   "codemirror_mode": {
    "name": "ipython",
    "version": 3
   },
   "file_extension": ".py",
   "mimetype": "text/x-python",
   "name": "python",
   "nbconvert_exporter": "python",
   "pygments_lexer": "ipython3",
   "version": "3.7.5"
  }
 },
 "nbformat": 4,
 "nbformat_minor": 2
}
